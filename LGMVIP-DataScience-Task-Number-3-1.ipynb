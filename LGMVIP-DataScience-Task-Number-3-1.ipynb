{
 "cells": [
  {
   "cell_type": "markdown",
   "metadata": {},
   "source": [
    "## <center> LGMVIP_DS_ September_23_Task_Number_3-1 <center>\n",
    "## <center> Neural Network That Can Read Hand Writing <center>\n",
    "## <center> By K. Pavan Kumar <center>"
   ]
  },
  {
   "cell_type": "code",
   "execution_count": 1,
   "metadata": {
    "_cell_guid": "b1076dfc-b9ad-4769-8c92-a6c4dae69d19",
    "_uuid": "8f2839f25d086af736a60e9eeb907d3b93b6e0e5",
    "execution": {
     "iopub.execute_input": "2023-09-28T21:26:14.554379Z",
     "iopub.status.busy": "2023-09-28T21:26:14.553809Z",
     "iopub.status.idle": "2023-09-28T21:26:15.091264Z",
     "shell.execute_reply": "2023-09-28T21:26:15.090019Z",
     "shell.execute_reply.started": "2023-09-28T21:26:14.554323Z"
    }
   },
   "outputs": [],
   "source": [
    "# This Python 3 environment comes with many helpful analytics libraries installed\n",
    "# It is defined by the kaggle/python Docker image: https://github.com/kaggle/docker-python\n",
    "# For example, here's several helpful packages to load\n",
    "\n",
    "import numpy as np # linear algebra\n",
    "import pandas as pd # data processing, CSV file I/O (e.g. pd.read_csv)\n",
    "\n",
    "# Input data files are available in the read-only \"../input/\" directory\n",
    "# For example, running this (by clicking run or pressing Shift+Enter) will list all files under the input directory\n",
    "\n",
    "import os\n",
    "#for dirname, _, filenames in os.walk('/kaggle/input'):\n",
    " #   for filename in filenames:\n",
    "      #  print(os.path.join(dirname, filename))\n",
    "        \n",
    "# You can write up to 20GB to the current directory (/kaggle/working/) that gets preserved as output when you create a version using \"Save & Run All\" \n",
    "# You can also write temporary files to /kaggle/temp/, but they won't be saved outside of the current session"
   ]
  },
  {
   "cell_type": "markdown",
   "metadata": {},
   "source": [
    "## Importing Required Libraries"
   ]
  },
  {
   "cell_type": "code",
   "execution_count": 2,
   "metadata": {
    "execution": {
     "iopub.execute_input": "2023-09-28T21:26:15.094509Z",
     "iopub.status.busy": "2023-09-28T21:26:15.093675Z",
     "iopub.status.idle": "2023-09-28T21:26:31.617692Z",
     "shell.execute_reply": "2023-09-28T21:26:31.616695Z",
     "shell.execute_reply.started": "2023-09-28T21:26:15.094471Z"
    }
   },
   "outputs": [
    {
     "name": "stderr",
     "output_type": "stream",
     "text": [
      "/opt/conda/lib/python3.10/site-packages/scipy/__init__.py:146: UserWarning: A NumPy version >=1.16.5 and <1.23.0 is required for this version of SciPy (detected version 1.23.5\n",
      "  warnings.warn(f\"A NumPy version >={np_minversion} and <{np_maxversion}\"\n"
     ]
    }
   ],
   "source": [
    "import numpy as np\n",
    "import pandas as pd\n",
    "import matplotlib.pyplot as plt\n",
    "import seaborn as sns\n",
    "import warnings\n",
    "warnings.filterwarnings('ignore')\n",
    "import tensorflow as tf\n",
    "from tensorflow.keras.datasets import mnist\n",
    "from tensorflow.keras.models import Sequential\n",
    "from tensorflow.keras.layers import Dense, Conv2D, Dropout, Flatten, MaxPooling2D\n",
    "from PIL import Image\n",
    "from collections import Counter\n",
    "import math"
   ]
  },
  {
   "cell_type": "markdown",
   "metadata": {},
   "source": [
    "## Train Test Splitting MNIST Data"
   ]
  },
  {
   "cell_type": "code",
   "execution_count": 3,
   "metadata": {
    "execution": {
     "iopub.execute_input": "2023-09-28T21:26:31.619880Z",
     "iopub.status.busy": "2023-09-28T21:26:31.619208Z",
     "iopub.status.idle": "2023-09-28T21:26:32.042031Z",
     "shell.execute_reply": "2023-09-28T21:26:32.041057Z",
     "shell.execute_reply.started": "2023-09-28T21:26:31.619846Z"
    }
   },
   "outputs": [
    {
     "name": "stdout",
     "output_type": "stream",
     "text": [
      "Downloading data from https://storage.googleapis.com/tensorflow/tf-keras-datasets/mnist.npz\n",
      "11490434/11490434 [==============================] - 0s 0us/step\n"
     ]
    }
   ],
   "source": [
    "(X_train,y_train),(X_test,y_test)=mnist.load_data()"
   ]
  },
  {
   "cell_type": "code",
   "execution_count": 4,
   "metadata": {
    "execution": {
     "iopub.execute_input": "2023-09-28T21:26:32.045020Z",
     "iopub.status.busy": "2023-09-28T21:26:32.044664Z",
     "iopub.status.idle": "2023-09-28T21:26:32.053318Z",
     "shell.execute_reply": "2023-09-28T21:26:32.052336Z",
     "shell.execute_reply.started": "2023-09-28T21:26:32.044989Z"
    }
   },
   "outputs": [
    {
     "name": "stdout",
     "output_type": "stream",
     "text": [
      "The Shape of Training Dataset is:  (60000, 28, 28)\n",
      "The Shape of Test Dataset is:  (10000, 28, 28)\n"
     ]
    }
   ],
   "source": [
    "print(\"The Shape of Training Dataset is: \",X_train.shape)\n",
    "print('The Shape of Test Dataset is: ',X_test.shape)"
   ]
  },
  {
   "cell_type": "code",
   "execution_count": 5,
   "metadata": {
    "execution": {
     "iopub.execute_input": "2023-09-28T21:26:32.055385Z",
     "iopub.status.busy": "2023-09-28T21:26:32.054671Z",
     "iopub.status.idle": "2023-09-28T21:26:32.408017Z",
     "shell.execute_reply": "2023-09-28T21:26:32.407095Z",
     "shell.execute_reply.started": "2023-09-28T21:26:32.055342Z"
    }
   },
   "outputs": [
    {
     "data": {
      "text/plain": [
       "Text(0.5, 1.0, 'Letter or Number 5')"
      ]
     },
     "execution_count": 5,
     "metadata": {},
     "output_type": "execute_result"
    },
    {
     "data": {
      "image/png": "[encoded data removed]",
      "text/plain": [
       "<Figure size 640x480 with 1 Axes>"
      ]
     },
     "metadata": {},
     "output_type": "display_data"
    }
   ],
   "source": [
    "plt.imshow(X_train[0],cmap='gray')\n",
    "plt.title('Letter or Number '+str(y_train[0]))"
   ]
  },
  {
   "cell_type": "code",
   "execution_count": 6,
   "metadata": {
    "execution": {
     "iopub.execute_input": "2023-09-28T21:26:32.410310Z",
     "iopub.status.busy": "2023-09-28T21:26:32.409344Z",
     "iopub.status.idle": "2023-09-28T21:26:32.444858Z",
     "shell.execute_reply": "2023-09-28T21:26:32.443852Z",
     "shell.execute_reply.started": "2023-09-28T21:26:32.410275Z"
    }
   },
   "outputs": [],
   "source": [
    "image_size=[]\n",
    "for i in range(len(X_train)):\n",
    "    image_size.append(X_train[i].size)"
   ]
  },
  {
   "cell_type": "code",
   "execution_count": 7,
   "metadata": {
    "execution": {
     "iopub.execute_input": "2023-09-28T21:26:32.447125Z",
     "iopub.status.busy": "2023-09-28T21:26:32.446252Z",
     "iopub.status.idle": "2023-09-28T21:26:32.452434Z",
     "shell.execute_reply": "2023-09-28T21:26:32.451528Z",
     "shell.execute_reply.started": "2023-09-28T21:26:32.447091Z"
    }
   },
   "outputs": [
    {
     "name": "stdout",
     "output_type": "stream",
     "text": [
      "The size of Image is:  (28.0, 28.0)\n"
     ]
    }
   ],
   "source": [
    "print('The size of Image is: ',(math.sqrt(X_train[0].size),math.sqrt(X_train[0].size)))"
   ]
  },
  {
   "cell_type": "code",
   "execution_count": 8,
   "metadata": {
    "execution": {
     "iopub.execute_input": "2023-09-28T21:26:32.454766Z",
     "iopub.status.busy": "2023-09-28T21:26:32.453910Z",
     "iopub.status.idle": "2023-09-28T21:26:32.464025Z",
     "shell.execute_reply": "2023-09-28T21:26:32.462992Z",
     "shell.execute_reply.started": "2023-09-28T21:26:32.454734Z"
    }
   },
   "outputs": [],
   "source": [
    "image_width=28\n",
    "image_height=28\n",
    "batch_size=128\n",
    "class_num=10\n",
    "epochs=20\n",
    "input_shape=(image_width,image_height,1)"
   ]
  },
  {
   "cell_type": "markdown",
   "metadata": {},
   "source": [
    "## Image Preprocessing"
   ]
  },
  {
   "cell_type": "code",
   "execution_count": 9,
   "metadata": {
    "execution": {
     "iopub.execute_input": "2023-09-28T21:26:32.466151Z",
     "iopub.status.busy": "2023-09-28T21:26:32.465531Z",
     "iopub.status.idle": "2023-09-28T21:26:32.477568Z",
     "shell.execute_reply": "2023-09-28T21:26:32.476571Z",
     "shell.execute_reply.started": "2023-09-28T21:26:32.466117Z"
    }
   },
   "outputs": [],
   "source": [
    "# Reshaping X_train, X_test\n",
    "X_train=X_train.reshape(X_train.shape[0],image_width,image_height,1)\n",
    "X_test=X_test.reshape(X_test.shape[0],image_width,image_height,1)"
   ]
  },
  {
   "cell_type": "code",
   "execution_count": 10,
   "metadata": {
    "execution": {
     "iopub.execute_input": "2023-09-28T21:26:32.481855Z",
     "iopub.status.busy": "2023-09-28T21:26:32.481537Z",
     "iopub.status.idle": "2023-09-28T21:26:32.495430Z",
     "shell.execute_reply": "2023-09-28T21:26:32.494251Z",
     "shell.execute_reply.started": "2023-09-28T21:26:32.481831Z"
    }
   },
   "outputs": [
    {
     "name": "stdout",
     "output_type": "stream",
     "text": [
      "The shape of X_train after reshaping is:  (60000, 28, 28, 1)\n",
      "The shape of X_test after reshaping is:  (10000, 28, 28, 1)\n"
     ]
    }
   ],
   "source": [
    "print(\"The shape of X_train after reshaping is: \",X_train.shape)\n",
    "print(\"The shape of X_test after reshaping is: \",X_test.shape)"
   ]
  },
  {
   "cell_type": "code",
   "execution_count": 11,
   "metadata": {
    "execution": {
     "iopub.execute_input": "2023-09-28T21:26:32.497720Z",
     "iopub.status.busy": "2023-09-28T21:26:32.497368Z",
     "iopub.status.idle": "2023-09-28T21:26:32.509681Z",
     "shell.execute_reply": "2023-09-28T21:26:32.508719Z",
     "shell.execute_reply.started": "2023-09-28T21:26:32.497686Z"
    }
   },
   "outputs": [],
   "source": [
    "# Reshaping y_train and y_test\n",
    "y_train=tf.keras.utils.to_categorical(y_train,class_num)\n",
    "y_test=tf.keras.utils.to_categorical(y_test,class_num)"
   ]
  },
  {
   "cell_type": "code",
   "execution_count": 12,
   "metadata": {
    "execution": {
     "iopub.execute_input": "2023-09-28T21:26:32.513129Z",
     "iopub.status.busy": "2023-09-28T21:26:32.512878Z",
     "iopub.status.idle": "2023-09-28T21:26:32.521826Z",
     "shell.execute_reply": "2023-09-28T21:26:32.519741Z",
     "shell.execute_reply.started": "2023-09-28T21:26:32.513107Z"
    }
   },
   "outputs": [
    {
     "name": "stdout",
     "output_type": "stream",
     "text": [
      "The shape of y_train after reshaping is:  (60000, 10)\n",
      "The shape of y_test after reshaping is:  (10000, 10)\n"
     ]
    }
   ],
   "source": [
    "print(\"The shape of y_train after reshaping is: \",y_train.shape)\n",
    "print(\"The shape of y_test after reshaping is: \",y_test.shape)"
   ]
  },
  {
   "cell_type": "code",
   "execution_count": 13,
   "metadata": {
    "execution": {
     "iopub.execute_input": "2023-09-28T21:26:32.524090Z",
     "iopub.status.busy": "2023-09-28T21:26:32.523465Z",
     "iopub.status.idle": "2023-09-28T21:26:32.610323Z",
     "shell.execute_reply": "2023-09-28T21:26:32.609246Z",
     "shell.execute_reply.started": "2023-09-28T21:26:32.524058Z"
    }
   },
   "outputs": [],
   "source": [
    "# Normalizing X_train and X_test\n",
    "X_train=X_train.astype('float32')\n",
    "X_test=X_test.astype('float32')\n",
    "X_train/=255.0\n",
    "X_test/=255.0"
   ]
  },
  {
   "cell_type": "markdown",
   "metadata": {},
   "source": [
    "## Model Building"
   ]
  },
  {
   "cell_type": "code",
   "execution_count": 14,
   "metadata": {
    "execution": {
     "iopub.execute_input": "2023-09-28T21:26:32.614975Z",
     "iopub.status.busy": "2023-09-28T21:26:32.613982Z",
     "iopub.status.idle": "2023-09-28T21:26:39.200593Z",
     "shell.execute_reply": "2023-09-28T21:26:39.199513Z",
     "shell.execute_reply.started": "2023-09-28T21:26:32.614936Z"
    }
   },
   "outputs": [],
   "source": [
    "model=Sequential()"
   ]
  },
  {
   "cell_type": "code",
   "execution_count": 15,
   "metadata": {
    "execution": {
     "iopub.execute_input": "2023-09-28T21:26:39.202445Z",
     "iopub.status.busy": "2023-09-28T21:26:39.202062Z",
     "iopub.status.idle": "2023-09-28T21:26:39.338538Z",
     "shell.execute_reply": "2023-09-28T21:26:39.337610Z",
     "shell.execute_reply.started": "2023-09-28T21:26:39.202411Z"
    }
   },
   "outputs": [],
   "source": [
    "model.add(Conv2D(32,kernel_size=(3,3),activation='relu',input_shape=input_shape))\n",
    "model.add(Conv2D(64,kernel_size=(3,3),activation='relu'))\n",
    "model.add(MaxPooling2D(pool_size=(2,2)))\n",
    "model.add(Dropout(0.25))\n",
    "model.add(Flatten())\n",
    "model.add(Dense(128,activation='relu'))\n",
    "model.add(Dropout(0.5))\n",
    "model.add(Dense(class_num,activation='softmax'))"
   ]
  },
  {
   "cell_type": "code",
   "execution_count": 16,
   "metadata": {
    "execution": {
     "iopub.execute_input": "2023-09-28T21:26:39.340707Z",
     "iopub.status.busy": "2023-09-28T21:26:39.340112Z",
     "iopub.status.idle": "2023-09-28T21:26:39.368251Z",
     "shell.execute_reply": "2023-09-28T21:26:39.367560Z",
     "shell.execute_reply.started": "2023-09-28T21:26:39.340676Z"
    }
   },
   "outputs": [
    {
     "name": "stdout",
     "output_type": "stream",
     "text": [
      "Model: \"sequential\"\n",
      "_________________________________________________________________\n",
      " Layer (type)                Output Shape              Param #   \n",
      "=================================================================\n",
      " conv2d (Conv2D)             (None, 26, 26, 32)        320       \n",
      "                                                                 \n",
      " conv2d_1 (Conv2D)           (None, 24, 24, 64)        18496     \n",
      "                                                                 \n",
      " max_pooling2d (MaxPooling2D  (None, 12, 12, 64)       0         \n",
      " )                                                               \n",
      "                                                                 \n",
      " dropout (Dropout)           (None, 12, 12, 64)        0         \n",
      "                                                                 \n",
      " flatten (Flatten)           (None, 9216)              0         \n",
      "                                                                 \n",
      " dense (Dense)               (None, 128)               1179776   \n",
      "                                                                 \n",
      " dropout_1 (Dropout)         (None, 128)               0         \n",
      "                                                                 \n",
      " dense_1 (Dense)             (None, 10)                1290      \n",
      "                                                                 \n",
      "=================================================================\n",
      "Total params: 1,199,882\n",
      "Trainable params: 1,199,882\n",
      "Non-trainable params: 0\n",
      "_________________________________________________________________\n"
     ]
    }
   ],
   "source": [
    "model.summary()"
   ]
  },
  {
   "cell_type": "code",
   "execution_count": 17,
   "metadata": {
    "execution": {
     "iopub.execute_input": "2023-09-28T21:26:39.369500Z",
     "iopub.status.busy": "2023-09-28T21:26:39.369173Z",
     "iopub.status.idle": "2023-09-28T21:26:39.394607Z",
     "shell.execute_reply": "2023-09-28T21:26:39.393715Z",
     "shell.execute_reply.started": "2023-09-28T21:26:39.369471Z"
    }
   },
   "outputs": [],
   "source": [
    "model.compile(loss='categorical_crossentropy',optimizer='Adam',metrics=['accuracy'])"
   ]
  },
  {
   "cell_type": "code",
   "execution_count": 18,
   "metadata": {
    "execution": {
     "iopub.execute_input": "2023-09-28T21:26:39.396709Z",
     "iopub.status.busy": "2023-09-28T21:26:39.396103Z",
     "iopub.status.idle": "2023-09-28T21:29:02.762281Z",
     "shell.execute_reply": "2023-09-28T21:29:02.761266Z",
     "shell.execute_reply.started": "2023-09-28T21:26:39.396678Z"
    }
   },
   "outputs": [
    {
     "name": "stdout",
     "output_type": "stream",
     "text": [
      "Epoch 1/20\n"
     ]
    },
    {
     "name": "stderr",
     "output_type": "stream",
     "text": [
      "2023-09-28 21:26:40.770408: E tensorflow/core/grappler/optimizers/meta_optimizer.cc:954] layout failed: INVALID_ARGUMENT: Size of values 0 does not match size of permutation 4 @ fanin shape insequential/dropout/dropout/SelectV2-2-TransposeNHWCToNCHW-LayoutOptimizer\n"
     ]
    },
    {
     "name": "stdout",
     "output_type": "stream",
     "text": [
      "469/469 [==============================] - 19s 10ms/step - loss: 0.2532 - accuracy: 0.9221 - val_loss: 0.0503 - val_accuracy: 0.9838\n",
      "Epoch 2/20\n",
      "469/469 [==============================] - 4s 9ms/step - loss: 0.0881 - accuracy: 0.9745 - val_loss: 0.0390 - val_accuracy: 0.9868\n",
      "Epoch 3/20\n",
      "469/469 [==============================] - 4s 8ms/step - loss: 0.0643 - accuracy: 0.9800 - val_loss: 0.0324 - val_accuracy: 0.9889\n",
      "Epoch 4/20\n",
      "469/469 [==============================] - 4s 9ms/step - loss: 0.0540 - accuracy: 0.9833 - val_loss: 0.0355 - val_accuracy: 0.9898\n",
      "Epoch 5/20\n",
      "469/469 [==============================] - 4s 9ms/step - loss: 0.0466 - accuracy: 0.9851 - val_loss: 0.0273 - val_accuracy: 0.9921\n",
      "Epoch 6/20\n",
      "469/469 [==============================] - 4s 9ms/step - loss: 0.0409 - accuracy: 0.9870 - val_loss: 0.0287 - val_accuracy: 0.9918\n",
      "Epoch 7/20\n",
      "469/469 [==============================] - 4s 9ms/step - loss: 0.0368 - accuracy: 0.9888 - val_loss: 0.0297 - val_accuracy: 0.9916\n",
      "Epoch 8/20\n",
      "469/469 [==============================] - 4s 9ms/step - loss: 0.0316 - accuracy: 0.9900 - val_loss: 0.0296 - val_accuracy: 0.9912\n",
      "Epoch 9/20\n",
      "469/469 [==============================] - 4s 9ms/step - loss: 0.0308 - accuracy: 0.9900 - val_loss: 0.0262 - val_accuracy: 0.9920\n",
      "Epoch 10/20\n",
      "469/469 [==============================] - 4s 8ms/step - loss: 0.0273 - accuracy: 0.9913 - val_loss: 0.0275 - val_accuracy: 0.9918\n",
      "Epoch 11/20\n",
      "469/469 [==============================] - 4s 9ms/step - loss: 0.0256 - accuracy: 0.9917 - val_loss: 0.0262 - val_accuracy: 0.9927\n",
      "Epoch 12/20\n",
      "469/469 [==============================] - 4s 9ms/step - loss: 0.0230 - accuracy: 0.9921 - val_loss: 0.0306 - val_accuracy: 0.9919\n",
      "Epoch 13/20\n",
      "469/469 [==============================] - 4s 9ms/step - loss: 0.0207 - accuracy: 0.9934 - val_loss: 0.0276 - val_accuracy: 0.9926\n",
      "Epoch 14/20\n",
      "469/469 [==============================] - 4s 9ms/step - loss: 0.0194 - accuracy: 0.9935 - val_loss: 0.0306 - val_accuracy: 0.9917\n",
      "Epoch 15/20\n",
      "469/469 [==============================] - 4s 9ms/step - loss: 0.0190 - accuracy: 0.9940 - val_loss: 0.0319 - val_accuracy: 0.9926\n",
      "Epoch 16/20\n",
      "469/469 [==============================] - 4s 9ms/step - loss: 0.0183 - accuracy: 0.9937 - val_loss: 0.0285 - val_accuracy: 0.9925\n",
      "Epoch 17/20\n",
      "469/469 [==============================] - 4s 9ms/step - loss: 0.0155 - accuracy: 0.9947 - val_loss: 0.0298 - val_accuracy: 0.9931\n",
      "Epoch 18/20\n",
      "469/469 [==============================] - 4s 8ms/step - loss: 0.0156 - accuracy: 0.9945 - val_loss: 0.0318 - val_accuracy: 0.9927\n",
      "Epoch 19/20\n",
      "469/469 [==============================] - 4s 9ms/step - loss: 0.0165 - accuracy: 0.9944 - val_loss: 0.0298 - val_accuracy: 0.9926\n",
      "Epoch 20/20\n",
      "469/469 [==============================] - 4s 9ms/step - loss: 0.0137 - accuracy: 0.9955 - val_loss: 0.0340 - val_accuracy: 0.9926\n"
     ]
    },
    {
     "data": {
      "text/plain": [
       "<keras.callbacks.History at 0x7ec5bae6d2d0>"
      ]
     },
     "execution_count": 18,
     "metadata": {},
     "output_type": "execute_result"
    }
   ],
   "source": [
    "model.fit(X_train,y_train,batch_size=batch_size,epochs=epochs,verbose=1,validation_data=(X_test,y_test))"
   ]
  },
  {
   "cell_type": "markdown",
   "metadata": {},
   "source": [
    "## Model Performance on Test Dataset"
   ]
  },
  {
   "cell_type": "code",
   "execution_count": 19,
   "metadata": {
    "execution": {
     "iopub.execute_input": "2023-09-28T21:29:04.660486Z",
     "iopub.status.busy": "2023-09-28T21:29:04.660093Z",
     "iopub.status.idle": "2023-09-28T21:29:05.760546Z",
     "shell.execute_reply": "2023-09-28T21:29:05.759272Z",
     "shell.execute_reply.started": "2023-09-28T21:29:04.660452Z"
    }
   },
   "outputs": [
    {
     "name": "stdout",
     "output_type": "stream",
     "text": [
      "313/313 [==============================] - 1s 3ms/step - loss: 0.0340 - accuracy: 0.9926\n"
     ]
    },
    {
     "data": {
      "text/plain": [
       "[0.03396006301045418, 0.9926000237464905]"
      ]
     },
     "execution_count": 19,
     "metadata": {},
     "output_type": "execute_result"
    }
   ],
   "source": [
    "model.evaluate(X_test,y_test)"
   ]
  },
  {
   "cell_type": "code",
   "execution_count": null,
   "metadata": {},
   "outputs": [],
   "source": []
  },
  {
   "cell_type": "code",
   "execution_count": null,
   "metadata": {},
   "outputs": [],
   "source": []
  }
 ],
 "metadata": {
  "kernelspec": {
   "display_name": "Python 3 (ipykernel)",
   "language": "python",
   "name": "python3"
  },
  "language_info": {
   "codemirror_mode": {
    "name": "ipython",
    "version": 3
   },
   "file_extension": ".py",
   "mimetype": "text/x-python",
   "name": "python",
   "nbconvert_exporter": "python",
   "pygments_lexer": "ipython3",
   "version": "3.10.9"
  }
 },
 "nbformat": 4,
 "nbformat_minor": 4
}
